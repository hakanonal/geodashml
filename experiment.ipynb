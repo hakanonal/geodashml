{
 "cells": [
  {
   "cell_type": "markdown",
   "metadata": {},
   "source": [
    "# Experimentation\n",
    "\n",
    "This notebook's purpose is to easily experiment some chunks of code. There will be nothing here that actually works. The main purpose is to show my idea walkthourgs. When time passes I am expecting to copy-paste the working code from here to original .py script files."
   ]
  },
  {
   "cell_type": "markdown",
   "metadata": {},
   "source": [
    "## [Read screen from a web page experiments](https://github.com/hakanonal/geodashml/projects/1#card-37027228)"
   ]
  },
  {
   "cell_type": "markdown",
   "metadata": {},
   "source": [
    "26.04.2020 - I have initally googled and bumped into [this](https://stackoverflow.com/questions/38568804/python-open-html-file-take-screenshot-crop-and-save-as-image) and [this](https://stackoverflow.com/questions/38568804/python-open-html-file-take-screenshot-crop-and-save-as-image). \n",
    "\n",
    "- Some fooling around with these ideas. \n",
    "- it appears that selenium is the right tool to get the screen shot. I still not sure if the scracth version of the game is going to provide the continoues images during playing the game. After all I do not have any idea what the game's runtime. we need to test more if we can get screenshots in a loop so that we can get series of screenshot images to feed into the network.\n",
    "- I have bumped into selenium installation problem, currentlly trying to resolve, \"Message: 'Google\\ Chrome.app' executable needs to be in PATH. Please see https://sites.google.com/a/chromium.org/chromedriver/home\" error message \n",
    "- This [page](https://www.selenium.dev/documentation/en/webdriver/driver_requirements/) seems to be helped a lot. It is the official selenium documentaion page that explains working principle and driver installation. It also re-directs to google's own [page](https://sites.google.com/a/chromium.org/chromedriver/downloads) to download the driver. I have matched my installed chrome application version with the driver version. I have also needed my mac security setting to allow un-trusted code to execute. I have moved it to /usr/local/bin folder. I choose to trust [this](https://sites.google.com/a/chromium.org/chromedriver/home) guys. Consider [security](https://sites.google.com/a/chromium.org/chromedriver/security-considerations) also."
   ]
  },
  {
   "cell_type": "code",
   "execution_count": null,
   "metadata": {},
   "outputs": [],
   "source": [
    "from selenium import webdriver\n",
    "\n",
    "options = webdriver.ChromeOptions()\n",
    "options.add_argument('headless')\n",
    "driver = webdriver.Chrome(executable_path=\"/usr/local/bin/chromedriver\", chrome_options=options)\n",
    "\n",
    "driver.get('https://scratch.mit.edu/projects/105500895/fullscreen/')\n",
    "image = driver.find_element_by_id('view').screenshot_as_png"
   ]
  },
  {
   "cell_type": "markdown",
   "metadata": {},
   "source": [
    "- selenium seems to be working. Now we need if we can get the image that we want. It seems not. It is not rendered properlly."
   ]
  },
  {
   "cell_type": "code",
   "execution_count": null,
   "metadata": {},
   "outputs": [],
   "source": [
    "from IPython.display import Image\n",
    "Image(image)"
   ]
  },
  {
   "cell_type": "markdown",
   "metadata": {},
   "source": [
    "27.04.2020 - Continue to explore selenium api\n",
    "- after a blank page I will try different elements to visualize, there may be problem with the flash or html5 or javascript (non-static) elements.\n",
    "- started to read selenium [webdriver documantation](https://www.selenium.dev/documentation/en/webdriver/waits/) in detail. \"Waits\" section seems to be promissing\n",
    "- using the WebDriverWait api has solved the problem.\n",
    "- waiting is solved the problem but it works inconsistantly. after wating I may need to call find_element function second time. I am planing to fool arround with this code more.\n",
    "- driver.quit() call seems to be important, otherwise the application stays open. so I have put it into try: finally block. to execute every time.\n",
    "- trying to understand which element to wait for specificlly this project\n",
    "- to watch the progress we can get rid of \"options.add_argument('headless')\" statement so a new window will open\n",
    "- so after fittling around a little bit more, I have finnally clicked the green flag element an get to the main menu, now I plan to start game and get the updated series images in a loop.\n",
    "- I am trying to find the right element to start the game by clicking. can not find where to click\n",
    "- I have founded the element that I have trying to find using find_element**s**_by_css_selector which returns a list. however find_element_by_css_selector this version brings only one element.\n",
    "- The selenium api is working perfectlly fine. My problem is in scratch. Normally user clicks on the head of the level name or even pressing space is enough, however I can not which element is actually catching that key stroke. I need to find a way to debug the scratch anc find the element that catches the key presses.\n",
    "- In scratch all visible game elements are in a single element tag named as canvas. I have tried to press space all the parent elements of the canvas however I always get the following error message \"Message: element not interactable\"\n",
    "- IS it possible to overcome this problem by getting the root docuement try to send the key command? Checking more on selenium documents. Yes it did work. find element by tag and the tag name is \"html\" Yeah!\n",
    "- Now I can consantrate on getting series of images and series of sending keys...\n",
    "- Just to see if it is working I have waited 1 second and take 3 different snapshots. You can see that our fellow moved forward on the last image."
   ]
  },
  {
   "cell_type": "code",
   "execution_count": null,
   "metadata": {},
   "outputs": [],
   "source": [
    "from selenium import webdriver\n",
    "from IPython.display import Image\n",
    "from selenium.webdriver.support.ui import WebDriverWait\n",
    "from selenium.webdriver.common.keys import Keys\n",
    "\n",
    "options = webdriver.ChromeOptions()\n",
    "options.add_argument('headless')\n",
    "driver = webdriver.Chrome(executable_path=\"/usr/local/bin/chromedriver\", chrome_options=options)\n",
    "\n",
    "try:\n",
    "    driver.get('https://scratch.mit.edu/projects/105500895/fullscreen/')\n",
    "    wait = WebDriverWait(driver,timeout=10)\n",
    "    wait.until(lambda d: d.find_element_by_css_selector(\".stage_green-flag-overlay_gNXnv img\")) #wait until green flag appears\n",
    "\n",
    "    flag_element = driver.find_element_by_css_selector(\".stage_green-flag-overlay_gNXnv img\")\n",
    "    flag_element.click()\n",
    "\n",
    "    wait.until(lambda d: d.find_element_by_css_selector(\".monitor_monitor-container_2J9gl\")) #wait until score board appears\n",
    "\n",
    "    driver.implicitly_wait(10)\n",
    "    html = driver.find_element_by_tag_name(\"html\")\n",
    "    html.send_keys(Keys.SPACE)\n",
    "    wait.until(lambda d: d.find_element_by_css_selector(\".monitor_value_3Yexa\")) #wait until score monitor element appears. \n",
    "\n",
    "    image0 = driver.find_element_by_css_selector(\"#view\").screenshot_as_png\n",
    "    driver.implicitly_wait(1)\n",
    "    image1 = driver.find_element_by_css_selector(\"#view\").screenshot_as_png\n",
    "    driver.implicitly_wait(1)\n",
    "    image2 = driver.find_element_by_css_selector(\"#view\").screenshot_as_png\n",
    "    driver.implicitly_wait(1)\n",
    "\n",
    "\n",
    "finally:\n",
    "    #print(\"ok\")\n",
    "    driver.quit()\n",
    "\n",
    "Image(image0)\n",
    "Image(image1)\n",
    "Image(image2)"
   ]
  },
  {
   "cell_type": "markdown",
   "metadata": {},
   "source": [
    "28.04.2020 - Let's put this into loop so that we can get series of images.\n",
    "\n",
    "- that was easy. using [this](https://stackoverflow.com/questions/11854847/how-can-i-display-an-image-from-a-file-in-jupyter-notebook)\n",
    "- ok then we need this image to be numpy array. go...\n",
    "- I have checked [this](https://stackoverflow.com/questions/57318892/convert-base64-encoded-image-to-a-numpy-array) site. I am getting base 64 screenshot and feed it in to io.BytsIO, however I get error message \"a bytes-like object is required, not 'str'\"\n",
    "- When I encode it I get the following message. \"cannot identify image file <_io.BytesIO object at 0x111db39e8>\" [ref](https://stackoverflow.com/questions/42612002/python-sockets-error-typeerror-a-bytes-like-object-is-required-not-str-with/42612820)\n",
    "- It seems that I need to understand better what is base64 what is string what does it represent. Will do some research\n",
    "- Well I did not understand but instead of getting the screen shot as base 64 I have get the screenshot as png and used same code mentioned [here](https://stackoverflow.com/questions/57318892/convert-base64-encoded-image-to-a-numpy-array). And it worked!\n",
    "- I have showed the series of images in a plot to see they are working fine. Yeah!!! That was quiker then expected...\n",
    "- as long as I see This means I have completed the first [task](https://github.com/hakanonal/geodashml/projects/1#card-37027228) of my [project](https://github.com/hakanonal/geodashml/projects/1).\n",
    "- the last image has FPS metric. I am not sure why it appeared.\n",
    "- I am worried about frame rate of this loop. I mean every loop getting screenshot and converting to numpy array takes time. Moreover when we move this code to the real script there will be additional score check and traning process will involve. So every screenshot action will be longer. I  will call this frame rate: the time that passes between takining the screen shot and getting the result from the network. To get a littile bit sense of it I have increased the samlpe loop size. It does not seem promissing. If in the future game performance is not going to be increase I will consider if one of the reason may be the low frame rate. "
   ]
  },
  {
   "cell_type": "code",
   "execution_count": null,
   "metadata": {
    "tags": [
     "outputPrepend",
     "outputPrepend",
     "outputPrepend"
    ]
   },
   "outputs": [],
   "source": [
    "from selenium import webdriver\n",
    "from selenium.webdriver.support.ui import WebDriverWait\n",
    "from selenium.webdriver.common.keys import Keys\n",
    "from PIL import Image\n",
    "import io\n",
    "import numpy as np\n",
    "import matplotlib.pyplot as plt\n",
    "\n",
    "\n",
    "options = webdriver.ChromeOptions()\n",
    "options.add_argument('headless')\n",
    "driver = webdriver.Chrome(executable_path=\"/usr/local/bin/chromedriver\", chrome_options=options)\n",
    "\n",
    "try:\n",
    "    driver.get('https://scratch.mit.edu/projects/105500895/fullscreen/')\n",
    "    wait = WebDriverWait(driver,timeout=10)\n",
    "    wait.until(lambda d: d.find_element_by_css_selector(\".stage_green-flag-overlay_gNXnv img\")) #wait until green flag appears\n",
    "\n",
    "    flag_element = driver.find_element_by_css_selector(\".stage_green-flag-overlay_gNXnv img\")\n",
    "    flag_element.click()\n",
    "\n",
    "    wait.until(lambda d: d.find_element_by_css_selector(\".monitor_monitor-container_2J9gl\")) #wait until score board appears\n",
    "\n",
    "    driver.implicitly_wait(20)\n",
    "    html = driver.find_element_by_tag_name(\"html\")\n",
    "    html.send_keys(Keys.SPACE)\n",
    "    wait.until(lambda d: d.find_element_by_css_selector(\".monitor_value_3Yexa\")) #wait until score monitor element appears. \n",
    "\n",
    "    fig, axes = plt.subplots(nrows=4, ncols=4, figsize=(20, 10))\n",
    "    numpt_test_images = []\n",
    "    for i in range(4):\n",
    "        for j in range(4):\n",
    "            image_png = driver.find_element_by_css_selector(\"#view\").screenshot_as_png\n",
    "            img = Image.open(io.BytesIO(image_png))\n",
    "            numpt_test_images.append(np.asarray(img))\n",
    "            axes[j][i].imshow(numpy_array)\n",
    "            print(numpy_array.shape)\n",
    "    plt.show()\n",
    "\n",
    "finally:\n",
    "    driver.quit()"
   ]
  },
  {
   "cell_type": "markdown",
   "metadata": {},
   "source": [
    "## [Build Agent Class](https://github.com/hakanonal/geodashml/projects/1#card-37027254) "
   ]
  },
  {
   "cell_type": "markdown",
   "metadata": {},
   "source": [
    "29.04.2020 - Starting the agent class godspeed!\n",
    "\n",
    "- My previous project (which is curentlly not on github) get me a lot of insight about reinfocement learning. So I will be copying a lot of code from there. Th emain structure was the play function to advance the step, choosing the strategy (exploit or explore) and get the next action and update the q-value accoring to new step. Also agent class should initilize the network.\n",
    "- To test the agent class I am guessing that I am also going to look into the [Game Environment class task](https://github.com/hakanonal/geodashml/projects/1#card-37027280)\n",
    "- So the network structure is very important. I can not remember right now but onve I have read an article that someone has made a super mario agent with convolutional network ending up with multiple dense layer and giving the prediction of action to give. In our example the action set very very easy press space or not. dude this is so simple. So our state is going to be the numpy array from the screen shot we get earlier and the action is going to be single nouron. To construct the model I need to figure out the shapes of the input. So I will do that in aboove section. Well the shape is (600,785,4) it is 4 channel picture. Very high quality I do not think that we need that much hish quality picture but we will see. It is going to be wild advanture.\n",
    "- I am going to copy paste some code from my earlier learning sessions. My initial network will proablly overkill, but the idea is starting with convolutional layers following with pooling in the end flatten it with 2 dense layer and ending with single nuoron sigmoid layer. All middle dense layers are relu. This was genereally best pratice among the reading I have made so far. I may tweak the layer counts of conv and desse layers, nouron/filter sizes and shapes later. I think the padding should not be same because the input shape is already huge. It feels like it should be narrowed down quicklly.\n",
    "- I little bit testing is going on if agent class is ok, how model summary looks like. Make some predictions with checking if class helper methods are working fine...\n",
    "- I have copy paste the train and update methods from my previous project did some minor changes to fit it into this project accoring to the input and put shapes.\n",
    "- Ok during re forming the train function I have relized that accoring to [q-learning algorithm](https://en.wikipedia.org/wiki/Q-learning) I need to take the max value of next action. Should my network's last layer must be single nouron or double neoron that one of them is the prob of not pressing space and other one is the prop of pressing the space key. Well according to [this](https://pathmind.com/wiki/deep-reinforcement-learning) page since we have only one action we need one nouron.\n",
    "- However int eh train method I could not figure out where should use the action value in the q-value aupdate formula. thinking onit...\n",
    "- appart from my last project I decided to introduce learning rate hypper parameter here...\n",
    "- since there is only 1 action in action set, the action parameter in train method seems to be irrevalent. so I diceded to remove it. But I am not sure what is going to be consiquences. I think I will see that on [this](https://github.com/hakanonal/geodashml/projects/1#card-37027293) stage\n",
    "- It seems that we have done with the agent class. To test if train method is working correctlly, I need to construct the [environment](https://github.com/hakanonal/geodashml/projects/1#card-37027280)."
   ]
  },
  {
   "cell_type": "code",
   "execution_count": 1,
   "metadata": {},
   "outputs": [
    {
     "output_type": "stream",
     "name": "stderr",
     "text": "Using TensorFlow backend.\n"
    }
   ],
   "source": [
    "import numpy as np\n",
    "import random\n",
    "from os import path\n",
    "from keras.models import Sequential\n",
    "from keras.layers import Dense, Conv2D, Flatten, MaxPooling2D, Conv2DTranspose, BatchNormalization, UpSampling2D, Reshape\n",
    "from keras.optimizers import Adam\n",
    "from keras.models import load_model\n",
    "from keras.activations import softmax\n",
    "\n",
    "\n",
    "class agent:\n",
    "    def __init__(self,discount=0.95,exploration_rate=0.9,decay_factor=0.9999, learning_rate=0.1):\n",
    "        self.discount = discount # How much we appreciate future reward over current\n",
    "        self.exploration_rate = exploration_rate # Initial exploration rate\n",
    "        self.decay_factor = decay_factor\n",
    "        self.learning_rate = learning_rate\n",
    "\n",
    "        if(path.exists(self._getModelFilename())):\n",
    "            self.model = load_model(self._getModelFilename())\n",
    "        else:\n",
    "            self.model = Sequential()\n",
    "            self.model.add(Conv2D(64, kernel_size=3, activation='relu', input_shape=(600,785,4)))\n",
    "            self.model.add(MaxPooling2D(pool_size=(2, 2)))\n",
    "            self.model.add(Conv2D(64, kernel_size=3, activation='relu'))\n",
    "            self.model.add(MaxPooling2D(pool_size=(2, 2)))\n",
    "            self.model.add(Conv2D(64, kernel_size=3, activation='relu'))\n",
    "            self.model.add(MaxPooling2D(pool_size=(2, 2)))\n",
    "            self.model.add(Flatten())\n",
    "            self.model.add(Dense(64,activation=\"relu\"))\n",
    "            self.model.add(Dense(32,activation=\"relu\"))\n",
    "            self.model.add(Dense(1,activation=\"sigmoid\"))\n",
    "            self.model.compile(optimizer='adam', loss='mean_squared_error', metrics=['accuracy'])\n",
    "\n",
    "    def _getModelFilename(self):\n",
    "        return \"geodash.h5\"\n",
    "\n",
    "    def get_next_action(self, state):\n",
    "        if random.random() < self.exploration_rate: # Explore (gamble) or exploit (greedy)\n",
    "            return self.random_action()\n",
    "        else:\n",
    "            return self.greedy_action(state)\n",
    "\n",
    "    def greedy_action(self, state):\n",
    "        return self.getQ(state) > 0.5\n",
    "    def random_action(self):\n",
    "        return random.random() > 0.5\n",
    "\n",
    "    def getQ(self,state):\n",
    "        state_to_predict = np.expand_dims(state,0)\n",
    "        action_prediction = self.model.predict(state_to_predict)\n",
    "        return action_prediction[0][0]\n",
    "\n",
    "    def train(self, old_state, new_state, reward):\n",
    "        \n",
    "        old_state_prediction = self.getQ(old_state)\n",
    "        new_state_prediction = self.getQ(new_state)\n",
    "\n",
    "        old_state_prediction = ((1-self.learning_rate) * old_state_prediction) + (self.learning_rate * (reward + self.discount * new_state_prediction))\n",
    "\n",
    "        x = np.expand_dims(old_state,0)\n",
    "        y = np.expand_dims(old_state_prediction,0)\n",
    "        self.model.fit(x,y,verbose=0)\n",
    "\n",
    "    def update(self, old_state, new_state, reward):        \n",
    "        self.train(old_state, new_state, reward)\n",
    "        self.exploration_rate *= self.decay_factor\n"
   ]
  },
  {
   "cell_type": "markdown",
   "metadata": {},
   "source": [
    "- I little bit testing is going on if agent class is ok, how model summary looks like. Make some predictions with checking if class helper methods are working fine..."
   ]
  },
  {
   "cell_type": "code",
   "execution_count": null,
   "metadata": {},
   "outputs": [],
   "source": [
    "a = agent()\n",
    "\n",
    "for i in range(len(numpt_test_images)):\n",
    "    print(\"%f - %d - %d\"%(\n",
    "        a.getQ(numpt_test_images[i]),\n",
    "        a.greedy_action(numpt_test_images[i]),\n",
    "        a.get_next_action(numpt_test_images[i])\n",
    "        ))\n"
   ]
  },
  {
   "cell_type": "markdown",
   "metadata": {},
   "source": [
    "## [Build Environment](https://github.com/hakanonal/geodashml/projects/1#card-37027280)\n",
    "\n",
    "29.04.2020\n",
    "- My initial thoght is to make the environment to read the hyper parameters and also using the selenimum we can open game and start the main loop to play constantlly. we may also need to use selenium to read the reward(score) value which is already being shown on the screen. I should also decide the metrics to watch. so let's begin...\n",
    "- currentlly I have incode the hyper parameters to see if the general stuture of the class is working. I will problly convert the configuration to get from wandb on [next](https://github.com/hakanonal/geodashml/projects/1#card-37027287) phase...\n",
    "- I am thinking of how to use the episode parameter. The inner loop that lives as long as one game. So somehow I should detect if our here is going forward, he is crached or he is died. also read the reward.\n",
    "- Ok second thoght, so I will continue the game loop as long as the reward is bigger than the reward that is readed one before. so if the reward is the same with the previus one then we have completed one episode(game). Let's try to code this.\n",
    "- but before that I need to implement the selenium attributes to this class. I get a new error message from the driver. I am not sure whay I am getting that \"HTTPConnectionPool(host='127.0.0.1', port=55773): Max retries exceeded with url: /session/c3a1e26d8e0b10a664932321d5ae2269/element (Caused by NewConnectionError(': Failed to establish a new connection: Errno 61 Connection refused'))\" Before that I was not getting this error. I also need to handle the error stitation, otherwise a lot of chrome aplication will spawn. Now I need to leave, I will continue later on...\n",
    "\n",
    "30.04.2020\n",
    "- Let's see...\n",
    "- Yes! well I did not understand why but the error gone. All I did was to restart the notebook.\n",
    "- Ok where were we?\n",
    "- Alright I have started the start method, start the game by pressing the space on html element. start a loop and succesfully read the score. The score is also being changed during the loop\n",
    "- So the score is being read too fast. see (0,0,1,2,3,4,5,5,6,7,7,8,8,9,9,10,11,11,12,12,12,13,13,14,14,15,15,15,15) same reward may be repeat itself. However when the game is over, I see that the same reward repeats itself much more then others. So let's 5 consecutive repeat of the same reward can be declared as 1 episode. However this may behave differently in different environments. This part is subject for an improvement. \n",
    "- On the other hand, In my experiement I have only printed the reward. I will now try to get the screen shot and maybe sent it to agent prediction so that one loop will be computationally more heavy. I wonder if I see not only repeating reward I may not see some of the rewards. Let's see...\n",
    "- Ok couple of wierd stuff is going on. First, I get the state with readState method and send it to agent's getQ method which should predict though network. I got a shape error. Because I see that when I do not hide the window then the resulation of the screen shot is changing and that's why the resulted numpy array has different shape. I need to transform the screen show every time :/, Other then that if I remove the getq from loop. I read wierd reward values when the window is hidden. I'll give one more try for that\n",
    "- Ok I got it now! To debug I print the element's text one before the reward. I was expecting to see \"Score\" text because the way of the html. After some loop I started to get not score but \"Player FPS\" text. That text was recognized before (check my notes before above). The problem with these htmls they are marked as same class names but they do not have unique id. I need to construct more clever css selectors.\n",
    "- I have read [this](https://stackoverflow.com/questions/2717480/css-selector-for-first-element-with-class) article. I have some idea the different between firts-child and first-type-of. I will try one them by modifying the readScore method. It did not work. FPS value still appear after some time.\n",
    "- I need to see the full html when that FPS value appears. Since that FPS value appears only on hidden mode I need to code a test script"
   ]
  },
  {
   "cell_type": "code",
   "execution_count": 4,
   "metadata": {},
   "outputs": [],
   "source": [
    "from selenium import webdriver\n",
    "from selenium.webdriver.support.ui import WebDriverWait\n",
    "from selenium.webdriver.common.keys import Keys\n",
    "from PIL import Image\n",
    "import io\n",
    "import numpy as np\n",
    "\n",
    "class environment:\n",
    "    def __init__(self):\n",
    "        self.config = {\n",
    "            'discount': 0.95,\n",
    "            'exploration_rate': 0.9,\n",
    "            'decay_factor': 0.9999,\n",
    "            'learning_rate': 0.1,\n",
    "            'episode': 100000,\n",
    "            'hide_browser' : 1\n",
    "        }\n",
    "        self.agent = agent(\n",
    "            discount=self.config['discount'],\n",
    "            exploration_rate=self.config['exploration_rate'],\n",
    "            decay_factor=self.config['decay_factor'],\n",
    "            learning_rate=self.config['learning_rate']\n",
    "            )\n",
    "        self.max_reward = 0\n",
    "        self.tot_reward = 0\n",
    "        self.tot_penalty = 0\n",
    "        self.tot_valid = 0\n",
    "        self.episode = self.config['episode']\n",
    "        \n",
    "        self.browser_options = webdriver.ChromeOptions()\n",
    "        if self.config['hide_browser']:\n",
    "            self.browser_options.add_argument('headless')\n",
    "        self.browser_driver = webdriver.Chrome(executable_path=\"/usr/local/bin/chromedriver\", chrome_options=self.browser_options)\n",
    "        self.browser_wait = WebDriverWait(self.browser_driver,timeout=10)\n",
    "\n",
    "        self.browser_driver.get('https://scratch.mit.edu/projects/105500895/fullscreen/')\n",
    "        self.browser_wait.until(lambda d: d.find_element_by_css_selector(\".stage_green-flag-overlay_gNXnv img\"))\n",
    "        flag_element = self.browser_driver.find_element_by_css_selector(\".stage_green-flag-overlay_gNXnv img\")\n",
    "        flag_element.click()\n",
    "        self.browser_wait.until(lambda d: d.find_element_by_css_selector(\".monitor_monitor-container_2J9gl\"))\n",
    "        self.browser_driver.implicitly_wait(20)\n",
    "\n",
    "    def start(self):\n",
    "        html_element = self.browser_driver.find_element_by_tag_name(\"html\")\n",
    "        html_element.send_keys(Keys.SPACE)\n",
    "        self.browser_wait.until(lambda d: d.find_element_by_css_selector(\".monitor_value_3Yexa\"))\n",
    "        while True:\n",
    "            q_value = 1 #self.agent.getQ(self.readState())\n",
    "            reward = int(self.readScore())\n",
    "            print('%f - %d - %s'%(q_value,reward, self.browser_driver.find_element_by_css_selector(\".monitor_label_ci1ok\").text ))\n",
    "            print('%s'%self.browser_driver.find_element_by_css_selector(\".monitor-list_monitor-list-scaler_143tA \").get_attribute('innerHTML'))\n",
    "\n",
    "    def readScore(self):\n",
    "        monitor_element = self.browser_driver.find_element_by_css_selector(\".monitor-list_monitor-list-scaler_143tA .react-contextmenu-wrapper:first-child .monitor_value_3Yexa\")\n",
    "        return monitor_element.text\n",
    "\n",
    "    def readState(self):\n",
    "        image_png = self.browser_driver.find_element_by_css_selector(\"#view\").screenshot_as_png\n",
    "        img = Image.open(io.BytesIO(image_png))\n",
    "        return np.asarray(img)\n",
    "\n",
    "\n",
    "\n",
    "    def end(self):\n",
    "        self.browser_driver.quit()"
   ]
  },
  {
   "cell_type": "code",
   "execution_count": 5,
   "metadata": {},
   "outputs": [
    {
     "output_type": "stream",
     "name": "stdout",
     "text": "1.000000 - 1 - Score\n1.000000 - 2 - Score\n1.000000 - 2 - Score\n1.000000 - 2 - Score\n1.000000 - 3 - Score\n1.000000 - 3 - Score\n1.000000 - 5 - Score\n1.000000 - 6 - Score\n1.000000 - 6 - Score\n1.000000 - 7 - Score\n1.000000 - 8 - Score\n1.000000 - 8 - Score\n1.000000 - 9 - Score\n1.000000 - 10 - Score\n1.000000 - 11 - Score\n1.000000 - 12 - Score\n1.000000 - 12 - Score\n1.000000 - 13 - Score\n1.000000 - 14 - Score\n1.000000 - 15 - Score\n1.000000 - 15 - Score\n1.000000 - 15 - Score\n1.000000 - 15 - Score\n1.000000 - 15 - Score\n1.000000 - 15 - Score\n1.000000 - 15 - Score\n1.000000 - 15 - Score\n1.000000 - 15 - Score\n1.000000 - 15 - Score\n1.000000 - 15 - Score\n1.000000 - 15 - Score\n1.000000 - 15 - Score\n1.000000 - 15 - Score\n1.000000 - 15 - Score\n1.000000 - 15 - Score\n1.000000 - 15 - Score\n1.000000 - 15 - Score\n1.000000 - 0 - Score\n1.000000 - 2 - Score\n1.000000 - 4 - Score\n1.000000 - 5 - Score\n1.000000 - 6 - Score\n1.000000 - 7 - Score\n1.000000 - 9 - Score\n1.000000 - 11 - Score\n1.000000 - 12 - Score\n1.000000 - 14 - Score\n1.000000 - 15 - Score\n1.000000 - 15 - Score\n1.000000 - 15 - Score\n1.000000 - 15 - Score\n1.000000 - 15 - Score\n1.000000 - 15 - Score\n1.000000 - 15 - Score\n1.000000 - 15 - Score\n1.000000 - 15 - Score\n1.000000 - 15 - Player: FPS\n1.000000 - 22 - Player: FPS\n1.000000 - 22 - Player: FPS\n1.000000 - 22 - Player: FPS\n1.000000 - 22 - Player: FPS\n1.000000 - 22 - Player: FPS\n1.000000 - 22 - Player: FPS\n1.000000 - 22 - Player: FPS\n1.000000 - 22 - Player: FPS\n1.000000 - 22 - Player: FPS\n1.000000 - 22 - Player: FPS\n1.000000 - 22 - Player: FPS\n1.000000 - 22 - Player: FPS\n1.000000 - 22 - Player: FPS\n1.000000 - 22 - Player: FPS\n1.000000 - 22 - Player: FPS\n1.000000 - 22 - Player: FPS\n1.000000 - 22 - Player: FPS\n1.000000 - 22 - Player: FPS\n1.000000 - 22 - Player: FPS\n1.000000 - 22 - Player: FPS\n1.000000 - 22 - Player: FPS\n1.000000 - 22 - Player: FPS\n1.000000 - 22 - Player: FPS\n1.000000 - 22 - Player: FPS\n1.000000 - 22 - Player: FPS\n1.000000 - 23 - Player: FPS\n1.000000 - 23 - Player: FPS\n1.000000 - 23 - Player: FPS\n1.000000 - 23 - Player: FPS\n1.000000 - 23 - Player: FPS\n1.000000 - 23 - Player: FPS\n1.000000 - 23 - Player: FPS\n1.000000 - 23 - Player: FPS\n1.000000 - 23 - Player: FPS\n1.000000 - 23 - Player: FPS\n1.000000 - 23 - Player: FPS\n1.000000 - 23 - Player: FPS\n1.000000 - 23 - Player: FPS\n1.000000 - 23 - Player: FPS\n1.000000 - 23 - Player: FPS\n1.000000 - 23 - Player: FPS\n1.000000 - 23 - Player: FPS\n1.000000 - 23 - Player: FPS\n1.000000 - 23 - Player: FPS\n1.000000 - 23 - Player: FPS\n1.000000 - 23 - Player: FPS\n1.000000 - 22 - Player: FPS\n1.000000 - 22 - Player: FPS\n1.000000 - 22 - Player: FPS\n1.000000 - 22 - Player: FPS\n1.000000 - 22 - Player: FPS\n1.000000 - 22 - Player: FPS\n1.000000 - 22 - Player: FPS\n1.000000 - 22 - Player: FPS\n1.000000 - 22 - Player: FPS\n1.000000 - 22 - Player: FPS\n1.000000 - 22 - Player: FPS\n1.000000 - 22 - Player: FPS\n1.000000 - 22 - Player: FPS\n1.000000 - 22 - Player: FPS\n1.000000 - 22 - Player: FPS\n1.000000 - 22 - Player: FPS\n1.000000 - 22 - Player: FPS\n1.000000 - 22 - Player: FPS\n1.000000 - 22 - Player: FPS\n1.000000 - 22 - Player: FPS\n1.000000 - 22 - Player: FPS\n1.000000 - 22 - Player: FPS\n1.000000 - 22 - Player: FPS\n1.000000 - 22 - Player: FPS\n1.000000 - 22 - Player: FPS\n1.000000 - 22 - Player: FPS\n1.000000 - 22 - Player: FPS\n1.000000 - 22 - Player: FPS\n1.000000 - 22 - Player: FPS\n1.000000 - 22 - Player: FPS\n1.000000 - 22 - Player: FPS\n1.000000 - 22 - Player: FPS\n1.000000 - 22 - Player: FPS\n1.000000 - 22 - Player: FPS\n1.000000 - 22 - Player: FPS\n1.000000 - 22 - Player: FPS\n1.000000 - 22 - Player: FPS\n1.000000 - 22 - Player: FPS\n1.000000 - 22 - Player: FPS\n1.000000 - 22 - Player: FPS\n1.000000 - 22 - Player: FPS\n1.000000 - 22 - Player: FPS\n1.000000 - 22 - Player: FPS\n1.000000 - 22 - Player: FPS\n1.000000 - 22 - Player: FPS\n1.000000 - 22 - Player: FPS\n1.000000 - 22 - Player: FPS\n1.000000 - 22 - Player: FPS\n1.000000 - 22 - Player: FPS\n1.000000 - 22 - Player: FPS\n1.000000 - 22 - Player: FPS\n1.000000 - 22 - Player: FPS\n1.000000 - 22 - Player: FPS\n1.000000 - 22 - Player: FPS\n1.000000 - 22 - Player: FPS\n1.000000 - 22 - Player: FPS\n1.000000 - 22 - Player: FPS\n1.000000 - 22 - Player: FPS\n1.000000 - 22 - Player: FPS\n1.000000 - 22 - Player: FPS\n1.000000 - 22 - Player: FPS\n1.000000 - 22 - Player: FPS\n1.000000 - 22 - Player: FPS\n1.000000 - 22 - Player: FPS\n1.000000 - 22 - Player: FPS\n1.000000 - 22 - Player: FPS\n1.000000 - 22 - Player: FPS\n1.000000 - 22 - Player: FPS\n1.000000 - 22 - Player: FPS\n1.000000 - 22 - Player: FPS\n1.000000 - 22 - Player: FPS\n1.000000 - 22 - Player: FPS\n1.000000 - 22 - Player: FPS\n1.000000 - 22 - Player: FPS\n1.000000 - 22 - Player: FPS\n1.000000 - 22 - Player: FPS\n1.000000 - 22 - Player: FPS\n1.000000 - 22 - Player: FPS\n1.000000 - 22 - Player: FPS\n1.000000 - 22 - Player: FPS\n1.000000 - 22 - Player: FPS\n"
    },
    {
     "output_type": "error",
     "ename": "KeyboardInterrupt",
     "evalue": "",
     "traceback": [
      "\u001b[0;31m---------------------------------------------------------------------------\u001b[0m",
      "\u001b[0;31mKeyboardInterrupt\u001b[0m                         Traceback (most recent call last)",
      "\u001b[0;32m<ipython-input-5-7fd2539b71cd>\u001b[0m in \u001b[0;36m<module>\u001b[0;34m\u001b[0m\n\u001b[1;32m      1\u001b[0m \u001b[0me\u001b[0m \u001b[0;34m=\u001b[0m \u001b[0menvironment\u001b[0m\u001b[0;34m(\u001b[0m\u001b[0;34m)\u001b[0m\u001b[0;34m\u001b[0m\u001b[0;34m\u001b[0m\u001b[0m\n\u001b[1;32m      2\u001b[0m \u001b[0;32mtry\u001b[0m\u001b[0;34m:\u001b[0m\u001b[0;34m\u001b[0m\u001b[0;34m\u001b[0m\u001b[0m\n\u001b[0;32m----> 3\u001b[0;31m     \u001b[0me\u001b[0m\u001b[0;34m.\u001b[0m\u001b[0mstart\u001b[0m\u001b[0;34m(\u001b[0m\u001b[0;34m)\u001b[0m\u001b[0;34m\u001b[0m\u001b[0;34m\u001b[0m\u001b[0m\n\u001b[0m\u001b[1;32m      4\u001b[0m \u001b[0;32mfinally\u001b[0m\u001b[0;34m:\u001b[0m\u001b[0;34m\u001b[0m\u001b[0;34m\u001b[0m\u001b[0m\n\u001b[1;32m      5\u001b[0m     \u001b[0me\u001b[0m\u001b[0;34m.\u001b[0m\u001b[0mend\u001b[0m\u001b[0;34m(\u001b[0m\u001b[0;34m)\u001b[0m\u001b[0;34m\u001b[0m\u001b[0;34m\u001b[0m\u001b[0m\n",
      "\u001b[0;32m<ipython-input-4-cd5861207bc2>\u001b[0m in \u001b[0;36mstart\u001b[0;34m(self)\u001b[0m\n\u001b[1;32m     48\u001b[0m             \u001b[0mq_value\u001b[0m \u001b[0;34m=\u001b[0m \u001b[0;36m1\u001b[0m \u001b[0;31m#self.agent.getQ(self.readState())\u001b[0m\u001b[0;34m\u001b[0m\u001b[0;34m\u001b[0m\u001b[0m\n\u001b[1;32m     49\u001b[0m             \u001b[0mreward\u001b[0m \u001b[0;34m=\u001b[0m \u001b[0mint\u001b[0m\u001b[0;34m(\u001b[0m\u001b[0mself\u001b[0m\u001b[0;34m.\u001b[0m\u001b[0mreadScore\u001b[0m\u001b[0;34m(\u001b[0m\u001b[0;34m)\u001b[0m\u001b[0;34m)\u001b[0m\u001b[0;34m\u001b[0m\u001b[0;34m\u001b[0m\u001b[0m\n\u001b[0;32m---> 50\u001b[0;31m             \u001b[0mprint\u001b[0m\u001b[0;34m(\u001b[0m\u001b[0;34m'%f - %d - %s'\u001b[0m\u001b[0;34m%\u001b[0m\u001b[0;34m(\u001b[0m\u001b[0mq_value\u001b[0m\u001b[0;34m,\u001b[0m\u001b[0mreward\u001b[0m\u001b[0;34m,\u001b[0m \u001b[0mself\u001b[0m\u001b[0;34m.\u001b[0m\u001b[0mbrowser_driver\u001b[0m\u001b[0;34m.\u001b[0m\u001b[0mfind_element_by_css_selector\u001b[0m\u001b[0;34m(\u001b[0m\u001b[0;34m\".monitor_label_ci1ok\"\u001b[0m\u001b[0;34m)\u001b[0m\u001b[0;34m.\u001b[0m\u001b[0mtext\u001b[0m \u001b[0;34m)\u001b[0m\u001b[0;34m)\u001b[0m\u001b[0;34m\u001b[0m\u001b[0;34m\u001b[0m\u001b[0m\n\u001b[0m\u001b[1;32m     51\u001b[0m \u001b[0;34m\u001b[0m\u001b[0m\n\u001b[1;32m     52\u001b[0m     \u001b[0;32mdef\u001b[0m \u001b[0mreadScore\u001b[0m\u001b[0;34m(\u001b[0m\u001b[0mself\u001b[0m\u001b[0;34m)\u001b[0m\u001b[0;34m:\u001b[0m\u001b[0;34m\u001b[0m\u001b[0;34m\u001b[0m\u001b[0m\n",
      "\u001b[0;32m/Library/Frameworks/Python.framework/Versions/3.7/lib/python3.7/site-packages/selenium/webdriver/remote/webdriver.py\u001b[0m in \u001b[0;36mfind_element_by_css_selector\u001b[0;34m(self, css_selector)\u001b[0m\n\u001b[1;32m    596\u001b[0m             \u001b[0melement\u001b[0m \u001b[0;34m=\u001b[0m \u001b[0mdriver\u001b[0m\u001b[0;34m.\u001b[0m\u001b[0mfind_element_by_css_selector\u001b[0m\u001b[0;34m(\u001b[0m\u001b[0;34m'#foo'\u001b[0m\u001b[0;34m)\u001b[0m\u001b[0;34m\u001b[0m\u001b[0;34m\u001b[0m\u001b[0m\n\u001b[1;32m    597\u001b[0m         \"\"\"\n\u001b[0;32m--> 598\u001b[0;31m         \u001b[0;32mreturn\u001b[0m \u001b[0mself\u001b[0m\u001b[0;34m.\u001b[0m\u001b[0mfind_element\u001b[0m\u001b[0;34m(\u001b[0m\u001b[0mby\u001b[0m\u001b[0;34m=\u001b[0m\u001b[0mBy\u001b[0m\u001b[0;34m.\u001b[0m\u001b[0mCSS_SELECTOR\u001b[0m\u001b[0;34m,\u001b[0m \u001b[0mvalue\u001b[0m\u001b[0;34m=\u001b[0m\u001b[0mcss_selector\u001b[0m\u001b[0;34m)\u001b[0m\u001b[0;34m\u001b[0m\u001b[0;34m\u001b[0m\u001b[0m\n\u001b[0m\u001b[1;32m    599\u001b[0m \u001b[0;34m\u001b[0m\u001b[0m\n\u001b[1;32m    600\u001b[0m     \u001b[0;32mdef\u001b[0m \u001b[0mfind_elements_by_css_selector\u001b[0m\u001b[0;34m(\u001b[0m\u001b[0mself\u001b[0m\u001b[0;34m,\u001b[0m \u001b[0mcss_selector\u001b[0m\u001b[0;34m)\u001b[0m\u001b[0;34m:\u001b[0m\u001b[0;34m\u001b[0m\u001b[0;34m\u001b[0m\u001b[0m\n",
      "\u001b[0;32m/Library/Frameworks/Python.framework/Versions/3.7/lib/python3.7/site-packages/selenium/webdriver/remote/webdriver.py\u001b[0m in \u001b[0;36mfind_element\u001b[0;34m(self, by, value)\u001b[0m\n\u001b[1;32m    976\u001b[0m         return self.execute(Command.FIND_ELEMENT, {\n\u001b[1;32m    977\u001b[0m             \u001b[0;34m'using'\u001b[0m\u001b[0;34m:\u001b[0m \u001b[0mby\u001b[0m\u001b[0;34m,\u001b[0m\u001b[0;34m\u001b[0m\u001b[0;34m\u001b[0m\u001b[0m\n\u001b[0;32m--> 978\u001b[0;31m             'value': value})['value']\n\u001b[0m\u001b[1;32m    979\u001b[0m \u001b[0;34m\u001b[0m\u001b[0m\n\u001b[1;32m    980\u001b[0m     \u001b[0;32mdef\u001b[0m \u001b[0mfind_elements\u001b[0m\u001b[0;34m(\u001b[0m\u001b[0mself\u001b[0m\u001b[0;34m,\u001b[0m \u001b[0mby\u001b[0m\u001b[0;34m=\u001b[0m\u001b[0mBy\u001b[0m\u001b[0;34m.\u001b[0m\u001b[0mID\u001b[0m\u001b[0;34m,\u001b[0m \u001b[0mvalue\u001b[0m\u001b[0;34m=\u001b[0m\u001b[0;32mNone\u001b[0m\u001b[0;34m)\u001b[0m\u001b[0;34m:\u001b[0m\u001b[0;34m\u001b[0m\u001b[0;34m\u001b[0m\u001b[0m\n",
      "\u001b[0;32m/Library/Frameworks/Python.framework/Versions/3.7/lib/python3.7/site-packages/selenium/webdriver/remote/webdriver.py\u001b[0m in \u001b[0;36mexecute\u001b[0;34m(self, driver_command, params)\u001b[0m\n\u001b[1;32m    317\u001b[0m \u001b[0;34m\u001b[0m\u001b[0m\n\u001b[1;32m    318\u001b[0m         \u001b[0mparams\u001b[0m \u001b[0;34m=\u001b[0m \u001b[0mself\u001b[0m\u001b[0;34m.\u001b[0m\u001b[0m_wrap_value\u001b[0m\u001b[0;34m(\u001b[0m\u001b[0mparams\u001b[0m\u001b[0;34m)\u001b[0m\u001b[0;34m\u001b[0m\u001b[0;34m\u001b[0m\u001b[0m\n\u001b[0;32m--> 319\u001b[0;31m         \u001b[0mresponse\u001b[0m \u001b[0;34m=\u001b[0m \u001b[0mself\u001b[0m\u001b[0;34m.\u001b[0m\u001b[0mcommand_executor\u001b[0m\u001b[0;34m.\u001b[0m\u001b[0mexecute\u001b[0m\u001b[0;34m(\u001b[0m\u001b[0mdriver_command\u001b[0m\u001b[0;34m,\u001b[0m \u001b[0mparams\u001b[0m\u001b[0;34m)\u001b[0m\u001b[0;34m\u001b[0m\u001b[0;34m\u001b[0m\u001b[0m\n\u001b[0m\u001b[1;32m    320\u001b[0m         \u001b[0;32mif\u001b[0m \u001b[0mresponse\u001b[0m\u001b[0;34m:\u001b[0m\u001b[0;34m\u001b[0m\u001b[0;34m\u001b[0m\u001b[0m\n\u001b[1;32m    321\u001b[0m             \u001b[0mself\u001b[0m\u001b[0;34m.\u001b[0m\u001b[0merror_handler\u001b[0m\u001b[0;34m.\u001b[0m\u001b[0mcheck_response\u001b[0m\u001b[0;34m(\u001b[0m\u001b[0mresponse\u001b[0m\u001b[0;34m)\u001b[0m\u001b[0;34m\u001b[0m\u001b[0;34m\u001b[0m\u001b[0m\n",
      "\u001b[0;32m/Library/Frameworks/Python.framework/Versions/3.7/lib/python3.7/site-packages/selenium/webdriver/remote/remote_connection.py\u001b[0m in \u001b[0;36mexecute\u001b[0;34m(self, command, params)\u001b[0m\n\u001b[1;32m    372\u001b[0m         \u001b[0mdata\u001b[0m \u001b[0;34m=\u001b[0m \u001b[0mutils\u001b[0m\u001b[0;34m.\u001b[0m\u001b[0mdump_json\u001b[0m\u001b[0;34m(\u001b[0m\u001b[0mparams\u001b[0m\u001b[0;34m)\u001b[0m\u001b[0;34m\u001b[0m\u001b[0;34m\u001b[0m\u001b[0m\n\u001b[1;32m    373\u001b[0m         \u001b[0murl\u001b[0m \u001b[0;34m=\u001b[0m \u001b[0;34m'%s%s'\u001b[0m \u001b[0;34m%\u001b[0m \u001b[0;34m(\u001b[0m\u001b[0mself\u001b[0m\u001b[0;34m.\u001b[0m\u001b[0m_url\u001b[0m\u001b[0;34m,\u001b[0m \u001b[0mpath\u001b[0m\u001b[0;34m)\u001b[0m\u001b[0;34m\u001b[0m\u001b[0;34m\u001b[0m\u001b[0m\n\u001b[0;32m--> 374\u001b[0;31m         \u001b[0;32mreturn\u001b[0m \u001b[0mself\u001b[0m\u001b[0;34m.\u001b[0m\u001b[0m_request\u001b[0m\u001b[0;34m(\u001b[0m\u001b[0mcommand_info\u001b[0m\u001b[0;34m[\u001b[0m\u001b[0;36m0\u001b[0m\u001b[0;34m]\u001b[0m\u001b[0;34m,\u001b[0m \u001b[0murl\u001b[0m\u001b[0;34m,\u001b[0m \u001b[0mbody\u001b[0m\u001b[0;34m=\u001b[0m\u001b[0mdata\u001b[0m\u001b[0;34m)\u001b[0m\u001b[0;34m\u001b[0m\u001b[0;34m\u001b[0m\u001b[0m\n\u001b[0m\u001b[1;32m    375\u001b[0m \u001b[0;34m\u001b[0m\u001b[0m\n\u001b[1;32m    376\u001b[0m     \u001b[0;32mdef\u001b[0m \u001b[0m_request\u001b[0m\u001b[0;34m(\u001b[0m\u001b[0mself\u001b[0m\u001b[0;34m,\u001b[0m \u001b[0mmethod\u001b[0m\u001b[0;34m,\u001b[0m \u001b[0murl\u001b[0m\u001b[0;34m,\u001b[0m \u001b[0mbody\u001b[0m\u001b[0;34m=\u001b[0m\u001b[0;32mNone\u001b[0m\u001b[0;34m)\u001b[0m\u001b[0;34m:\u001b[0m\u001b[0;34m\u001b[0m\u001b[0;34m\u001b[0m\u001b[0m\n",
      "\u001b[0;32m/Library/Frameworks/Python.framework/Versions/3.7/lib/python3.7/site-packages/selenium/webdriver/remote/remote_connection.py\u001b[0m in \u001b[0;36m_request\u001b[0;34m(self, method, url, body)\u001b[0m\n\u001b[1;32m    395\u001b[0m \u001b[0;34m\u001b[0m\u001b[0m\n\u001b[1;32m    396\u001b[0m         \u001b[0;32mif\u001b[0m \u001b[0mself\u001b[0m\u001b[0;34m.\u001b[0m\u001b[0mkeep_alive\u001b[0m\u001b[0;34m:\u001b[0m\u001b[0;34m\u001b[0m\u001b[0;34m\u001b[0m\u001b[0m\n\u001b[0;32m--> 397\u001b[0;31m             \u001b[0mresp\u001b[0m \u001b[0;34m=\u001b[0m \u001b[0mself\u001b[0m\u001b[0;34m.\u001b[0m\u001b[0m_conn\u001b[0m\u001b[0;34m.\u001b[0m\u001b[0mrequest\u001b[0m\u001b[0;34m(\u001b[0m\u001b[0mmethod\u001b[0m\u001b[0;34m,\u001b[0m \u001b[0murl\u001b[0m\u001b[0;34m,\u001b[0m \u001b[0mbody\u001b[0m\u001b[0;34m=\u001b[0m\u001b[0mbody\u001b[0m\u001b[0;34m,\u001b[0m \u001b[0mheaders\u001b[0m\u001b[0;34m=\u001b[0m\u001b[0mheaders\u001b[0m\u001b[0;34m)\u001b[0m\u001b[0;34m\u001b[0m\u001b[0;34m\u001b[0m\u001b[0m\n\u001b[0m\u001b[1;32m    398\u001b[0m \u001b[0;34m\u001b[0m\u001b[0m\n\u001b[1;32m    399\u001b[0m             \u001b[0mstatuscode\u001b[0m \u001b[0;34m=\u001b[0m \u001b[0mresp\u001b[0m\u001b[0;34m.\u001b[0m\u001b[0mstatus\u001b[0m\u001b[0;34m\u001b[0m\u001b[0;34m\u001b[0m\u001b[0m\n",
      "\u001b[0;32m/Library/Frameworks/Python.framework/Versions/3.7/lib/python3.7/site-packages/urllib3/request.py\u001b[0m in \u001b[0;36mrequest\u001b[0;34m(self, method, url, fields, headers, **urlopen_kw)\u001b[0m\n\u001b[1;32m     78\u001b[0m         \u001b[0;32melse\u001b[0m\u001b[0;34m:\u001b[0m\u001b[0;34m\u001b[0m\u001b[0;34m\u001b[0m\u001b[0m\n\u001b[1;32m     79\u001b[0m             return self.request_encode_body(\n\u001b[0;32m---> 80\u001b[0;31m                 \u001b[0mmethod\u001b[0m\u001b[0;34m,\u001b[0m \u001b[0murl\u001b[0m\u001b[0;34m,\u001b[0m \u001b[0mfields\u001b[0m\u001b[0;34m=\u001b[0m\u001b[0mfields\u001b[0m\u001b[0;34m,\u001b[0m \u001b[0mheaders\u001b[0m\u001b[0;34m=\u001b[0m\u001b[0mheaders\u001b[0m\u001b[0;34m,\u001b[0m \u001b[0;34m**\u001b[0m\u001b[0murlopen_kw\u001b[0m\u001b[0;34m\u001b[0m\u001b[0;34m\u001b[0m\u001b[0m\n\u001b[0m\u001b[1;32m     81\u001b[0m             )\n\u001b[1;32m     82\u001b[0m \u001b[0;34m\u001b[0m\u001b[0m\n",
      "\u001b[0;32m/Library/Frameworks/Python.framework/Versions/3.7/lib/python3.7/site-packages/urllib3/request.py\u001b[0m in \u001b[0;36mrequest_encode_body\u001b[0;34m(self, method, url, fields, headers, encode_multipart, multipart_boundary, **urlopen_kw)\u001b[0m\n\u001b[1;32m    169\u001b[0m         \u001b[0mextra_kw\u001b[0m\u001b[0;34m.\u001b[0m\u001b[0mupdate\u001b[0m\u001b[0;34m(\u001b[0m\u001b[0murlopen_kw\u001b[0m\u001b[0;34m)\u001b[0m\u001b[0;34m\u001b[0m\u001b[0;34m\u001b[0m\u001b[0m\n\u001b[1;32m    170\u001b[0m \u001b[0;34m\u001b[0m\u001b[0m\n\u001b[0;32m--> 171\u001b[0;31m         \u001b[0;32mreturn\u001b[0m \u001b[0mself\u001b[0m\u001b[0;34m.\u001b[0m\u001b[0murlopen\u001b[0m\u001b[0;34m(\u001b[0m\u001b[0mmethod\u001b[0m\u001b[0;34m,\u001b[0m \u001b[0murl\u001b[0m\u001b[0;34m,\u001b[0m \u001b[0;34m**\u001b[0m\u001b[0mextra_kw\u001b[0m\u001b[0;34m)\u001b[0m\u001b[0;34m\u001b[0m\u001b[0;34m\u001b[0m\u001b[0m\n\u001b[0m",
      "\u001b[0;32m/Library/Frameworks/Python.framework/Versions/3.7/lib/python3.7/site-packages/urllib3/poolmanager.py\u001b[0m in \u001b[0;36murlopen\u001b[0;34m(self, method, url, redirect, **kw)\u001b[0m\n\u001b[1;32m    328\u001b[0m             \u001b[0mresponse\u001b[0m \u001b[0;34m=\u001b[0m \u001b[0mconn\u001b[0m\u001b[0;34m.\u001b[0m\u001b[0murlopen\u001b[0m\u001b[0;34m(\u001b[0m\u001b[0mmethod\u001b[0m\u001b[0;34m,\u001b[0m \u001b[0murl\u001b[0m\u001b[0;34m,\u001b[0m \u001b[0;34m**\u001b[0m\u001b[0mkw\u001b[0m\u001b[0;34m)\u001b[0m\u001b[0;34m\u001b[0m\u001b[0;34m\u001b[0m\u001b[0m\n\u001b[1;32m    329\u001b[0m         \u001b[0;32melse\u001b[0m\u001b[0;34m:\u001b[0m\u001b[0;34m\u001b[0m\u001b[0;34m\u001b[0m\u001b[0m\n\u001b[0;32m--> 330\u001b[0;31m             \u001b[0mresponse\u001b[0m \u001b[0;34m=\u001b[0m \u001b[0mconn\u001b[0m\u001b[0;34m.\u001b[0m\u001b[0murlopen\u001b[0m\u001b[0;34m(\u001b[0m\u001b[0mmethod\u001b[0m\u001b[0;34m,\u001b[0m \u001b[0mu\u001b[0m\u001b[0;34m.\u001b[0m\u001b[0mrequest_uri\u001b[0m\u001b[0;34m,\u001b[0m \u001b[0;34m**\u001b[0m\u001b[0mkw\u001b[0m\u001b[0;34m)\u001b[0m\u001b[0;34m\u001b[0m\u001b[0;34m\u001b[0m\u001b[0m\n\u001b[0m\u001b[1;32m    331\u001b[0m \u001b[0;34m\u001b[0m\u001b[0m\n\u001b[1;32m    332\u001b[0m         \u001b[0mredirect_location\u001b[0m \u001b[0;34m=\u001b[0m \u001b[0mredirect\u001b[0m \u001b[0;32mand\u001b[0m \u001b[0mresponse\u001b[0m\u001b[0;34m.\u001b[0m\u001b[0mget_redirect_location\u001b[0m\u001b[0;34m(\u001b[0m\u001b[0;34m)\u001b[0m\u001b[0;34m\u001b[0m\u001b[0;34m\u001b[0m\u001b[0m\n",
      "\u001b[0;32m/Library/Frameworks/Python.framework/Versions/3.7/lib/python3.7/site-packages/urllib3/connectionpool.py\u001b[0m in \u001b[0;36murlopen\u001b[0;34m(self, method, url, body, headers, retries, redirect, assert_same_host, timeout, pool_timeout, release_conn, chunked, body_pos, **response_kw)\u001b[0m\n\u001b[1;32m    670\u001b[0m                 \u001b[0mbody\u001b[0m\u001b[0;34m=\u001b[0m\u001b[0mbody\u001b[0m\u001b[0;34m,\u001b[0m\u001b[0;34m\u001b[0m\u001b[0;34m\u001b[0m\u001b[0m\n\u001b[1;32m    671\u001b[0m                 \u001b[0mheaders\u001b[0m\u001b[0;34m=\u001b[0m\u001b[0mheaders\u001b[0m\u001b[0;34m,\u001b[0m\u001b[0;34m\u001b[0m\u001b[0;34m\u001b[0m\u001b[0m\n\u001b[0;32m--> 672\u001b[0;31m                 \u001b[0mchunked\u001b[0m\u001b[0;34m=\u001b[0m\u001b[0mchunked\u001b[0m\u001b[0;34m,\u001b[0m\u001b[0;34m\u001b[0m\u001b[0;34m\u001b[0m\u001b[0m\n\u001b[0m\u001b[1;32m    673\u001b[0m             )\n\u001b[1;32m    674\u001b[0m \u001b[0;34m\u001b[0m\u001b[0m\n",
      "\u001b[0;32m/Library/Frameworks/Python.framework/Versions/3.7/lib/python3.7/site-packages/urllib3/connectionpool.py\u001b[0m in \u001b[0;36m_make_request\u001b[0;34m(self, conn, method, url, timeout, chunked, **httplib_request_kw)\u001b[0m\n\u001b[1;32m    419\u001b[0m                     \u001b[0;31m# Python 3 (including for exceptions like SystemExit).\u001b[0m\u001b[0;34m\u001b[0m\u001b[0;34m\u001b[0m\u001b[0;34m\u001b[0m\u001b[0m\n\u001b[1;32m    420\u001b[0m                     \u001b[0;31m# Otherwise it looks like a bug in the code.\u001b[0m\u001b[0;34m\u001b[0m\u001b[0;34m\u001b[0m\u001b[0;34m\u001b[0m\u001b[0m\n\u001b[0;32m--> 421\u001b[0;31m                     \u001b[0msix\u001b[0m\u001b[0;34m.\u001b[0m\u001b[0mraise_from\u001b[0m\u001b[0;34m(\u001b[0m\u001b[0me\u001b[0m\u001b[0;34m,\u001b[0m \u001b[0;32mNone\u001b[0m\u001b[0;34m)\u001b[0m\u001b[0;34m\u001b[0m\u001b[0;34m\u001b[0m\u001b[0m\n\u001b[0m\u001b[1;32m    422\u001b[0m         \u001b[0;32mexcept\u001b[0m \u001b[0;34m(\u001b[0m\u001b[0mSocketTimeout\u001b[0m\u001b[0;34m,\u001b[0m \u001b[0mBaseSSLError\u001b[0m\u001b[0;34m,\u001b[0m \u001b[0mSocketError\u001b[0m\u001b[0;34m)\u001b[0m \u001b[0;32mas\u001b[0m \u001b[0me\u001b[0m\u001b[0;34m:\u001b[0m\u001b[0;34m\u001b[0m\u001b[0;34m\u001b[0m\u001b[0m\n\u001b[1;32m    423\u001b[0m             \u001b[0mself\u001b[0m\u001b[0;34m.\u001b[0m\u001b[0m_raise_timeout\u001b[0m\u001b[0;34m(\u001b[0m\u001b[0merr\u001b[0m\u001b[0;34m=\u001b[0m\u001b[0me\u001b[0m\u001b[0;34m,\u001b[0m \u001b[0murl\u001b[0m\u001b[0;34m=\u001b[0m\u001b[0murl\u001b[0m\u001b[0;34m,\u001b[0m \u001b[0mtimeout_value\u001b[0m\u001b[0;34m=\u001b[0m\u001b[0mread_timeout\u001b[0m\u001b[0;34m)\u001b[0m\u001b[0;34m\u001b[0m\u001b[0;34m\u001b[0m\u001b[0m\n",
      "\u001b[0;32m/Library/Frameworks/Python.framework/Versions/3.7/lib/python3.7/site-packages/urllib3/packages/six.py\u001b[0m in \u001b[0;36mraise_from\u001b[0;34m(value, from_value)\u001b[0m\n",
      "\u001b[0;32m/Library/Frameworks/Python.framework/Versions/3.7/lib/python3.7/site-packages/urllib3/connectionpool.py\u001b[0m in \u001b[0;36m_make_request\u001b[0;34m(self, conn, method, url, timeout, chunked, **httplib_request_kw)\u001b[0m\n\u001b[1;32m    414\u001b[0m                 \u001b[0;31m# Python 3\u001b[0m\u001b[0;34m\u001b[0m\u001b[0;34m\u001b[0m\u001b[0;34m\u001b[0m\u001b[0m\n\u001b[1;32m    415\u001b[0m                 \u001b[0;32mtry\u001b[0m\u001b[0;34m:\u001b[0m\u001b[0;34m\u001b[0m\u001b[0;34m\u001b[0m\u001b[0m\n\u001b[0;32m--> 416\u001b[0;31m                     \u001b[0mhttplib_response\u001b[0m \u001b[0;34m=\u001b[0m \u001b[0mconn\u001b[0m\u001b[0;34m.\u001b[0m\u001b[0mgetresponse\u001b[0m\u001b[0;34m(\u001b[0m\u001b[0;34m)\u001b[0m\u001b[0;34m\u001b[0m\u001b[0;34m\u001b[0m\u001b[0m\n\u001b[0m\u001b[1;32m    417\u001b[0m                 \u001b[0;32mexcept\u001b[0m \u001b[0mBaseException\u001b[0m \u001b[0;32mas\u001b[0m \u001b[0me\u001b[0m\u001b[0;34m:\u001b[0m\u001b[0;34m\u001b[0m\u001b[0;34m\u001b[0m\u001b[0m\n\u001b[1;32m    418\u001b[0m                     \u001b[0;31m# Remove the TypeError from the exception chain in\u001b[0m\u001b[0;34m\u001b[0m\u001b[0;34m\u001b[0m\u001b[0;34m\u001b[0m\u001b[0m\n",
      "\u001b[0;32m/Library/Frameworks/Python.framework/Versions/3.7/lib/python3.7/http/client.py\u001b[0m in \u001b[0;36mgetresponse\u001b[0;34m(self)\u001b[0m\n\u001b[1;32m   1319\u001b[0m         \u001b[0;32mtry\u001b[0m\u001b[0;34m:\u001b[0m\u001b[0;34m\u001b[0m\u001b[0;34m\u001b[0m\u001b[0m\n\u001b[1;32m   1320\u001b[0m             \u001b[0;32mtry\u001b[0m\u001b[0;34m:\u001b[0m\u001b[0;34m\u001b[0m\u001b[0;34m\u001b[0m\u001b[0m\n\u001b[0;32m-> 1321\u001b[0;31m                 \u001b[0mresponse\u001b[0m\u001b[0;34m.\u001b[0m\u001b[0mbegin\u001b[0m\u001b[0;34m(\u001b[0m\u001b[0;34m)\u001b[0m\u001b[0;34m\u001b[0m\u001b[0;34m\u001b[0m\u001b[0m\n\u001b[0m\u001b[1;32m   1322\u001b[0m             \u001b[0;32mexcept\u001b[0m \u001b[0mConnectionError\u001b[0m\u001b[0;34m:\u001b[0m\u001b[0;34m\u001b[0m\u001b[0;34m\u001b[0m\u001b[0m\n\u001b[1;32m   1323\u001b[0m                 \u001b[0mself\u001b[0m\u001b[0;34m.\u001b[0m\u001b[0mclose\u001b[0m\u001b[0;34m(\u001b[0m\u001b[0;34m)\u001b[0m\u001b[0;34m\u001b[0m\u001b[0;34m\u001b[0m\u001b[0m\n",
      "\u001b[0;32m/Library/Frameworks/Python.framework/Versions/3.7/lib/python3.7/http/client.py\u001b[0m in \u001b[0;36mbegin\u001b[0;34m(self)\u001b[0m\n\u001b[1;32m    294\u001b[0m         \u001b[0;31m# read until we get a non-100 response\u001b[0m\u001b[0;34m\u001b[0m\u001b[0;34m\u001b[0m\u001b[0;34m\u001b[0m\u001b[0m\n\u001b[1;32m    295\u001b[0m         \u001b[0;32mwhile\u001b[0m \u001b[0;32mTrue\u001b[0m\u001b[0;34m:\u001b[0m\u001b[0;34m\u001b[0m\u001b[0;34m\u001b[0m\u001b[0m\n\u001b[0;32m--> 296\u001b[0;31m             \u001b[0mversion\u001b[0m\u001b[0;34m,\u001b[0m \u001b[0mstatus\u001b[0m\u001b[0;34m,\u001b[0m \u001b[0mreason\u001b[0m \u001b[0;34m=\u001b[0m \u001b[0mself\u001b[0m\u001b[0;34m.\u001b[0m\u001b[0m_read_status\u001b[0m\u001b[0;34m(\u001b[0m\u001b[0;34m)\u001b[0m\u001b[0;34m\u001b[0m\u001b[0;34m\u001b[0m\u001b[0m\n\u001b[0m\u001b[1;32m    297\u001b[0m             \u001b[0;32mif\u001b[0m \u001b[0mstatus\u001b[0m \u001b[0;34m!=\u001b[0m \u001b[0mCONTINUE\u001b[0m\u001b[0;34m:\u001b[0m\u001b[0;34m\u001b[0m\u001b[0;34m\u001b[0m\u001b[0m\n\u001b[1;32m    298\u001b[0m                 \u001b[0;32mbreak\u001b[0m\u001b[0;34m\u001b[0m\u001b[0;34m\u001b[0m\u001b[0m\n",
      "\u001b[0;32m/Library/Frameworks/Python.framework/Versions/3.7/lib/python3.7/http/client.py\u001b[0m in \u001b[0;36m_read_status\u001b[0;34m(self)\u001b[0m\n\u001b[1;32m    255\u001b[0m \u001b[0;34m\u001b[0m\u001b[0m\n\u001b[1;32m    256\u001b[0m     \u001b[0;32mdef\u001b[0m \u001b[0m_read_status\u001b[0m\u001b[0;34m(\u001b[0m\u001b[0mself\u001b[0m\u001b[0;34m)\u001b[0m\u001b[0;34m:\u001b[0m\u001b[0;34m\u001b[0m\u001b[0;34m\u001b[0m\u001b[0m\n\u001b[0;32m--> 257\u001b[0;31m         \u001b[0mline\u001b[0m \u001b[0;34m=\u001b[0m \u001b[0mstr\u001b[0m\u001b[0;34m(\u001b[0m\u001b[0mself\u001b[0m\u001b[0;34m.\u001b[0m\u001b[0mfp\u001b[0m\u001b[0;34m.\u001b[0m\u001b[0mreadline\u001b[0m\u001b[0;34m(\u001b[0m\u001b[0m_MAXLINE\u001b[0m \u001b[0;34m+\u001b[0m \u001b[0;36m1\u001b[0m\u001b[0;34m)\u001b[0m\u001b[0;34m,\u001b[0m \u001b[0;34m\"iso-8859-1\"\u001b[0m\u001b[0;34m)\u001b[0m\u001b[0;34m\u001b[0m\u001b[0;34m\u001b[0m\u001b[0m\n\u001b[0m\u001b[1;32m    258\u001b[0m         \u001b[0;32mif\u001b[0m \u001b[0mlen\u001b[0m\u001b[0;34m(\u001b[0m\u001b[0mline\u001b[0m\u001b[0;34m)\u001b[0m \u001b[0;34m>\u001b[0m \u001b[0m_MAXLINE\u001b[0m\u001b[0;34m:\u001b[0m\u001b[0;34m\u001b[0m\u001b[0;34m\u001b[0m\u001b[0m\n\u001b[1;32m    259\u001b[0m             \u001b[0;32mraise\u001b[0m \u001b[0mLineTooLong\u001b[0m\u001b[0;34m(\u001b[0m\u001b[0;34m\"status line\"\u001b[0m\u001b[0;34m)\u001b[0m\u001b[0;34m\u001b[0m\u001b[0;34m\u001b[0m\u001b[0m\n",
      "\u001b[0;32m/Library/Frameworks/Python.framework/Versions/3.7/lib/python3.7/socket.py\u001b[0m in \u001b[0;36mreadinto\u001b[0;34m(self, b)\u001b[0m\n\u001b[1;32m    587\u001b[0m         \u001b[0;32mwhile\u001b[0m \u001b[0;32mTrue\u001b[0m\u001b[0;34m:\u001b[0m\u001b[0;34m\u001b[0m\u001b[0;34m\u001b[0m\u001b[0m\n\u001b[1;32m    588\u001b[0m             \u001b[0;32mtry\u001b[0m\u001b[0;34m:\u001b[0m\u001b[0;34m\u001b[0m\u001b[0;34m\u001b[0m\u001b[0m\n\u001b[0;32m--> 589\u001b[0;31m                 \u001b[0;32mreturn\u001b[0m \u001b[0mself\u001b[0m\u001b[0;34m.\u001b[0m\u001b[0m_sock\u001b[0m\u001b[0;34m.\u001b[0m\u001b[0mrecv_into\u001b[0m\u001b[0;34m(\u001b[0m\u001b[0mb\u001b[0m\u001b[0;34m)\u001b[0m\u001b[0;34m\u001b[0m\u001b[0;34m\u001b[0m\u001b[0m\n\u001b[0m\u001b[1;32m    590\u001b[0m             \u001b[0;32mexcept\u001b[0m \u001b[0mtimeout\u001b[0m\u001b[0;34m:\u001b[0m\u001b[0;34m\u001b[0m\u001b[0;34m\u001b[0m\u001b[0m\n\u001b[1;32m    591\u001b[0m                 \u001b[0mself\u001b[0m\u001b[0;34m.\u001b[0m\u001b[0m_timeout_occurred\u001b[0m \u001b[0;34m=\u001b[0m \u001b[0;32mTrue\u001b[0m\u001b[0;34m\u001b[0m\u001b[0;34m\u001b[0m\u001b[0m\n",
      "\u001b[0;31mKeyboardInterrupt\u001b[0m: "
     ]
    }
   ],
   "source": [
    "e = environment()\n",
    "try:\n",
    "    e.start()\n",
    "finally:\n",
    "    e.end()"
   ]
  },
  {
   "cell_type": "code",
   "execution_count": null,
   "metadata": {},
   "outputs": [],
   "source": []
  }
 ],
 "metadata": {
  "language_info": {
   "codemirror_mode": {
    "name": "ipython",
    "version": 3
   },
   "file_extension": ".py",
   "mimetype": "text/x-python",
   "name": "python",
   "nbconvert_exporter": "python",
   "pygments_lexer": "ipython3",
   "version": "3.7.2-final"
  },
  "orig_nbformat": 2,
  "kernelspec": {
   "name": "python37264bitb4053a4b20a84f3abb1bff9c403e377a",
   "display_name": "Python 3.7.2 64-bit"
  }
 },
 "nbformat": 4,
 "nbformat_minor": 2
}